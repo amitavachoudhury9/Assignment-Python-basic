{
  "nbformat": 4,
  "nbformat_minor": 0,
  "metadata": {
    "colab": {
      "provenance": []
    },
    "kernelspec": {
      "name": "python3",
      "display_name": "Python 3"
    },
    "language_info": {
      "name": "python"
    }
  },
  "cells": [
    {
      "cell_type": "markdown",
      "source": [
        "# Assignment : Python basic\n"
      ],
      "metadata": {
        "id": "CriDLukxrusV"
      }
    },
    {
      "cell_type": "markdown",
      "source": [
        "#PYTHON BASICS THEORITICAL Q & A"
      ],
      "metadata": {
        "id": "GrKwwASW85gG"
      }
    },
    {
      "cell_type": "markdown",
      "source": [
        "1. What is Python, and why is it popular?\n",
        "  - Python is high level, interpreted programming language\n",
        "known for its simplicity, readability and versatility.\n",
        "It is popular because:\n",
        "1) Of easy syntax 2) Huge library support 3) Used in many fields like Data analysis, Data science,\n",
        "Automation, web developement etc.\n",
        "\n",
        "2. What is an interpreter in Python?\n",
        "  - An interpreter is a program that executes Python code line\n",
        "by line. It converts high-level code into machine code at run\n",
        "time, allowing immediate execution and debugging.\n",
        "\n",
        "3. What are pre-defined keywords in Python?\n",
        "  - Pre-defined keywords in Python are reserved keyword which user cannot use as\n",
        "variable are pre-defined keywords, examples are for, while,\n",
        "print, else, elif,class etc.\n",
        "\n",
        "4. Can keywords be used as variable names?\n",
        "  - No, python keywords cannot be used as variable names as these are reserved words that have special meaning in the language.no Using them as variable names will confuse the interpreter and cause an error.\n",
        "\n",
        "5. What is mutability in Python?\n",
        "  - Mutability means whether an object can be changed after\n",
        "it's creation. eg. List, Dictionary and set are mutable.\n",
        "\n",
        "6. Why are lists mutable, but tuples are immutable?\n",
        "  - Lists are designed for flexible data which can grow, shrink\n",
        "and made change while tuples are designed to use fixed\n",
        "data which can improve performance and safety.\n",
        "\n",
        "7. What is the difference between “==” and “is” operators in Python?\n",
        "  - \"==\" are used for check equality while \"is\" is used for\n",
        "checking memory eg. if a==9: -> check if a is equal to 9.\n",
        "\n",
        "8. What are logical operators in Python?\n",
        "  - Logical operators are used in Python to combine conditional\n",
        "statements. eg. AND, OR, NOT.\n",
        "\n",
        "9. What is type casting in Python?\n",
        "  - Type casting in python means converting data type of one\n",
        "variable into another.\n",
        "\n",
        "10. What is the difference between implicit and explicit type casting?\n",
        "  - implicit type casting: .When Python convert data type\n",
        "internally then its known as Implicit type casting -Explicit\n",
        "type casting: When user convert data type externally using\n",
        "int(), float(), str() and float(), then its known as Explicit\n",
        "type casting.\n",
        "\n",
        "11. What is the purpose of conditional statements in Python?\n",
        "  - The purpose of conditional statements in Python is to control\n",
        "the flow of program based on conditions.\n",
        "\n",
        "12.  How does the elif statement work?\n",
        "  - elif statement is the another\n",
        "condition after the first if when the previous condition is false. - if():\n",
        "statement() -elif(): statement() -else: statement().\n",
        "\n",
        "13. What is the difference between for and while loops?\n",
        "  - for: when we know the exact number of iteration -while: when the loop should\n",
        "continue based on a condition.\n",
        "\n",
        "14. Describe a scenario where a while loop is more suitable than a for loop.\n",
        "  - We use while loop when we dont know how many iteration or loop the\n",
        "statement will require.\n"
      ],
      "metadata": {
        "id": "JIvW-bD6uFyM"
      }
    },
    {
      "cell_type": "markdown",
      "source": [
        "# PYTHON BASICS PRACTICAL Q & A\n"
      ],
      "metadata": {
        "id": "xSbJv-9UBKMw"
      }
    },
    {
      "cell_type": "code",
      "source": [
        "# Write a Python program to print \"Hello, World!\n",
        "\n",
        "print('Hello, World!')"
      ],
      "metadata": {
        "colab": {
          "base_uri": "https://localhost:8080/"
        },
        "id": "vjgYPQ4aBX02",
        "outputId": "275a8ce5-6b8c-4f3a-97b2-2530aec28f71"
      },
      "execution_count": null,
      "outputs": [
        {
          "output_type": "stream",
          "name": "stdout",
          "text": [
            "Hello, World!\n"
          ]
        }
      ]
    },
    {
      "cell_type": "code",
      "source": [
        "#Write a Python program that displays your name and age.\n",
        "\n",
        "name='Amitava'\n",
        "age=33\n",
        "print('Myself:', name, 'and My age is:',age)"
      ],
      "metadata": {
        "colab": {
          "base_uri": "https://localhost:8080/"
        },
        "id": "s6xn5gLrBrh9",
        "outputId": "22317085-d3ef-460b-bfb3-c9c0934e16bb"
      },
      "execution_count": null,
      "outputs": [
        {
          "output_type": "stream",
          "name": "stdout",
          "text": [
            "Myself: Amitava and My age is: 33\n"
          ]
        }
      ]
    },
    {
      "cell_type": "code",
      "source": [
        "#Write code to print all the pre-defined keywords in Python using the keyword library.\n",
        "\n",
        "import keyword\n",
        "print(keyword.kwlist)"
      ],
      "metadata": {
        "colab": {
          "base_uri": "https://localhost:8080/"
        },
        "id": "L5TdCcloCBXW",
        "outputId": "fb08eb60-881f-43a8-ca62-18935e5bd6f9"
      },
      "execution_count": null,
      "outputs": [
        {
          "output_type": "stream",
          "name": "stdout",
          "text": [
            "['False', 'None', 'True', 'and', 'as', 'assert', 'async', 'await', 'break', 'class', 'continue', 'def', 'del', 'elif', 'else', 'except', 'finally', 'for', 'from', 'global', 'if', 'import', 'in', 'is', 'lambda', 'nonlocal', 'not', 'or', 'pass', 'raise', 'return', 'try', 'while', 'with', 'yield']\n"
          ]
        }
      ]
    },
    {
      "cell_type": "code",
      "source": [
        "#Write a program that checks if a given word is a Python keyword.\n",
        "\n",
        "import keyword\n",
        "word=input('Enter the word:')\n",
        "if keyword.iskeyword(word):\n",
        "  print('Yes given word is keyword: ',word)\n",
        "else:\n",
        "  print('No, given word is not keyword: ',word)"
      ],
      "metadata": {
        "colab": {
          "base_uri": "https://localhost:8080/"
        },
        "id": "g4xIKvdcCOL6",
        "outputId": "0f024570-eee2-4ca6-9416-05feec5a088b"
      },
      "execution_count": null,
      "outputs": [
        {
          "output_type": "stream",
          "name": "stdout",
          "text": [
            "Enter the word:None\n",
            "Yes given word is keyword:  None\n"
          ]
        }
      ]
    },
    {
      "cell_type": "code",
      "source": [
        "#Create a list and tuple in Python, and demonstrate how attempting to change an element works differently for each.\n",
        "\n",
        "# Create a list and a tuple\n",
        "list = [10, 30, 60]\n",
        "tuple = (10, 40, 80)\n",
        "\n",
        "\n",
        "list[2]=(45)\n",
        "print(\"Modified list:\", list)\n",
        "\n",
        "# Try to change an element in the tuple\n",
        "try:\n",
        "    tuple[2] = 50\n",
        "except TypeError as e:\n",
        "    print(\"Error while modifying tuple:\", e)"
      ],
      "metadata": {
        "colab": {
          "base_uri": "https://localhost:8080/"
        },
        "id": "e10lsuACCgh1",
        "outputId": "fe73f5d7-50ea-4199-ceb0-00c80f12e9b1"
      },
      "execution_count": null,
      "outputs": [
        {
          "output_type": "stream",
          "name": "stdout",
          "text": [
            "Modified list: [10, 30, 45]\n",
            "Error while modifying tuple: 'tuple' object does not support item assignment\n"
          ]
        }
      ]
    },
    {
      "cell_type": "code",
      "source": [
        "#Write a function to demonstrate the behavior of mutable and immutable arguments.\n",
        "\n",
        "list=['2','6','9']# list are mutable\n",
        "list.append(5)\n",
        "print (list)\n",
        "\n",
        "#tuple are immutable\n",
        "tuple=('2','5','9')\n",
        "# tuple[4]=6 # This line causes an error because tuples are immutable\n",
        "print(tuple )# they give a error"
      ],
      "metadata": {
        "colab": {
          "base_uri": "https://localhost:8080/"
        },
        "id": "X8tds2M9DRpB",
        "outputId": "c5164c2c-5644-4644-ca30-cd72a354fc1e"
      },
      "execution_count": null,
      "outputs": [
        {
          "output_type": "stream",
          "name": "stdout",
          "text": [
            "['2', '6', '9', 5]\n",
            "('2', '5', '9')\n"
          ]
        }
      ]
    },
    {
      "cell_type": "code",
      "source": [
        "#Write a program that performs basic arithmetic operations on two user-input numbers.\n",
        "\n",
        "a=int(input(\"enter number one:\"))\n",
        "b=int(input(\"enter number two:\"))\n",
        "print(\"addition:\",a+b)\n",
        "print(\"subtraction:\",a-b)\n",
        "print(\"multiplication:\",a*b)\n",
        "print(\"division:\",a/b)"
      ],
      "metadata": {
        "colab": {
          "base_uri": "https://localhost:8080/"
        },
        "id": "1HwpuIpqE_CG",
        "outputId": "7730264b-62bd-48a8-f1ee-6b1d13f28c1d"
      },
      "execution_count": null,
      "outputs": [
        {
          "output_type": "stream",
          "name": "stdout",
          "text": [
            "enter number one:8\n",
            "enter number two:4\n",
            "addition: 12\n",
            "subtraction: 4\n",
            "multiplication: 32\n",
            "division: 2.0\n"
          ]
        }
      ]
    },
    {
      "cell_type": "code",
      "source": [
        "#Write a program to demonstrate the use of logical operators.\n",
        "\n",
        "a = 20\n",
        "b = 2\n",
        "\n",
        "# Logical AND\n",
        "print(\"AND:\", a > 5 and b > 2)\n",
        "\n",
        "# Logical OR\n",
        "print(\"OR:\", a < 5 or b > 2)\n",
        "\n",
        "# Logical NOT\n",
        "print(\"NOT:\", not(a > b))\n"
      ],
      "metadata": {
        "colab": {
          "base_uri": "https://localhost:8080/"
        },
        "id": "nMhHFRJIF_61",
        "outputId": "a8b15932-0a1d-4a30-efc1-717cad757da9"
      },
      "execution_count": null,
      "outputs": [
        {
          "output_type": "stream",
          "name": "stdout",
          "text": [
            "AND: False\n",
            "OR: False\n",
            "NOT: False\n"
          ]
        }
      ]
    },
    {
      "cell_type": "code",
      "source": [
        "#Write a Python program to convert user input from string to integer, float, and boolean types.\n",
        "\n",
        "user_input=input(\"enter a number:\")\n",
        "\n",
        "a=int(user_input)\n",
        "b=float(user_input)\n",
        "c=bool(user_input)\n",
        "\n",
        "print(\"int:\",a)\n",
        "print(\"float:\",b)\n",
        "print(\"bool:\",c)"
      ],
      "metadata": {
        "colab": {
          "base_uri": "https://localhost:8080/"
        },
        "id": "kprCFtRWGwN9",
        "outputId": "29d1a102-c851-42e6-da97-b3b57855b905"
      },
      "execution_count": null,
      "outputs": [
        {
          "output_type": "stream",
          "name": "stdout",
          "text": [
            "enter a number:60\n",
            "int: 60\n",
            "float: 60.0\n",
            "bool: True\n"
          ]
        }
      ]
    },
    {
      "cell_type": "code",
      "source": [
        "#Write code to demonstrate type casting with list elements.\n",
        "\n",
        "lst=['1','2','3']\n",
        "int_lst=[int(i) for i in lst]\n",
        "print(int_lst)"
      ],
      "metadata": {
        "colab": {
          "base_uri": "https://localhost:8080/"
        },
        "id": "_XEGhMt3Hjo7",
        "outputId": "4d030582-a0be-481f-e906-5575d63c49ef"
      },
      "execution_count": null,
      "outputs": [
        {
          "output_type": "stream",
          "name": "stdout",
          "text": [
            "[1, 2, 3]\n"
          ]
        }
      ]
    },
    {
      "cell_type": "code",
      "source": [
        "#Write a program that checks if a number is positive, negative, or zero.\n",
        "\n",
        "num=float(input(\"Enter any number:\"))\n",
        "\n",
        "if num == 0:\n",
        "  print(\"Number is zero\")\n",
        "elif num >0:\n",
        "  print(\"Number is positive\")\n",
        "else:\n",
        "  print(\"Number is negative\")"
      ],
      "metadata": {
        "colab": {
          "base_uri": "https://localhost:8080/"
        },
        "id": "u1SOkp5mINfF",
        "outputId": "fbfe2c1c-c630-432f-d482-4a5e9c038e64"
      },
      "execution_count": null,
      "outputs": [
        {
          "output_type": "stream",
          "name": "stdout",
          "text": [
            "Enter any number:7\n",
            "Number is positive\n"
          ]
        }
      ]
    },
    {
      "cell_type": "code",
      "source": [
        "#Write a for loop to print numbers from 1 to 10.\n",
        "\n",
        "for i in range(1,11):\n",
        "  print(i)"
      ],
      "metadata": {
        "colab": {
          "base_uri": "https://localhost:8080/"
        },
        "id": "m6pGQSw4IoP2",
        "outputId": "5ea7913b-b02d-416b-a9bd-0500b370bd5d"
      },
      "execution_count": null,
      "outputs": [
        {
          "output_type": "stream",
          "name": "stdout",
          "text": [
            "1\n",
            "2\n",
            "3\n",
            "4\n",
            "5\n",
            "6\n",
            "7\n",
            "8\n",
            "9\n",
            "10\n"
          ]
        }
      ]
    },
    {
      "cell_type": "code",
      "source": [
        "#Write a Python program to find the sum of all even numbers between 1 and 50.\n",
        "\n",
        "total = 0  # Initialize total to 0\n",
        "for i in range(2, 51, 2):\n",
        "  print(i)\n",
        "  total += i  # Add the even number to the total\n",
        "\n",
        "print(\"sum of even no:\", total)"
      ],
      "metadata": {
        "colab": {
          "base_uri": "https://localhost:8080/"
        },
        "id": "IitsuXQsKEty",
        "outputId": "15c65289-e34d-4f22-eff5-c6ada04d1b32"
      },
      "execution_count": null,
      "outputs": [
        {
          "output_type": "stream",
          "name": "stdout",
          "text": [
            "2\n",
            "4\n",
            "6\n",
            "8\n",
            "10\n",
            "12\n",
            "14\n",
            "16\n",
            "18\n",
            "20\n",
            "22\n",
            "24\n",
            "26\n",
            "28\n",
            "30\n",
            "32\n",
            "34\n",
            "36\n",
            "38\n",
            "40\n",
            "42\n",
            "44\n",
            "46\n",
            "48\n",
            "50\n",
            "sum of even no: 650\n"
          ]
        }
      ]
    },
    {
      "cell_type": "code",
      "source": [
        "##Write a program to reverse a string using a while loop.\n",
        "\n",
        "text = input(\"Enter a string: \")\n",
        "\n",
        "i = len(text) - 1\n",
        "rev = \"\"\n",
        "\n",
        "while i >= 0:\n",
        "    rev = rev + text[i]\n",
        "    i = i - 1\n",
        "\n",
        "print(\"Reversed string:\", rev)\n"
      ],
      "metadata": {
        "colab": {
          "base_uri": "https://localhost:8080/"
        },
        "id": "F_yzdJrsKmCt",
        "outputId": "8b04259d-7be5-4b2f-9971-8819ed02272d"
      },
      "execution_count": null,
      "outputs": [
        {
          "output_type": "stream",
          "name": "stdout",
          "text": [
            "Enter a string: AMIT\n",
            "Reversed string: TIMA\n"
          ]
        }
      ]
    },
    {
      "cell_type": "code",
      "source": [
        "#Write a Python program to calculate the factorial of a number provided by the user using a while loop.\n",
        "\n",
        "num=int(input(\"enter a number:\"))\n",
        "fac = 1\n",
        "i = 1\n",
        "\n",
        "while i <= num:\n",
        "\tfac = fac * i\n",
        "\ti = i + 1\n",
        "\n",
        "print(\"factorial of \", num, \" is \", fac)"
      ],
      "metadata": {
        "colab": {
          "base_uri": "https://localhost:8080/"
        },
        "id": "sgYMZmIkLnc3",
        "outputId": "3a2623f7-d8e4-4400-ec78-661486741916"
      },
      "execution_count": null,
      "outputs": [
        {
          "output_type": "stream",
          "name": "stdout",
          "text": [
            "enter a number:7\n",
            "factorial of  7  is  5040\n"
          ]
        }
      ]
    }
  ]
}